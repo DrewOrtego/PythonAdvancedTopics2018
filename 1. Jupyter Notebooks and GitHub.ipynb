{
 "cells": [
  {
   "cell_type": "markdown",
   "metadata": {
    "collapsed": true
   },
   "source": [
    "![Jupyter Notebooks](img/jupyter.png)\n",
    "## Installation\n",
    "A package manager is required to install Jupyter Notebook. You can use one of the following options:\n",
    "    1. Install Anaconda or Miniconda as they include Jupyter Notebook. This is included with Pro.\n",
    "    2. Install using Pip.\n",
    "\n",
    "### http://jupyter.org/install"
   ]
  },
  {
   "cell_type": "markdown",
   "metadata": {},
   "source": [
    "***"
   ]
  },
  {
   "cell_type": "markdown",
   "metadata": {},
   "source": [
    "![GitHub](img/github.png)\n",
    "### add URL to presentation here"
   ]
  },
  {
   "cell_type": "code",
   "execution_count": null,
   "metadata": {},
   "outputs": [],
   "source": []
  }
 ],
 "metadata": {
  "kernelspec": {
   "display_name": "Python 3",
   "language": "python",
   "name": "python3"
  },
  "language_info": {
   "codemirror_mode": {
    "name": "ipython",
    "version": 3
   },
   "file_extension": ".py",
   "mimetype": "text/x-python",
   "name": "python",
   "nbconvert_exporter": "python",
   "pygments_lexer": "ipython3",
   "version": "3.6.5"
  }
 },
 "nbformat": 4,
 "nbformat_minor": 1
}
