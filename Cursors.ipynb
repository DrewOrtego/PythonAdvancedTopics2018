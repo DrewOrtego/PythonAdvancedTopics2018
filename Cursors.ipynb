{
 "cells": [
  {
   "cell_type": "markdown",
   "metadata": {},
   "source": [
    "# Cursors\n",
    "* Allow you to search, append, and alter data in a table\n",
    "* Old cursors still exist, but da module has more options"
   ]
  },
  {
   "cell_type": "markdown",
   "metadata": {},
   "source": [
    "***"
   ]
  },
  {
   "cell_type": "markdown",
   "metadata": {},
   "source": [
    "## Search Cursor\n",
    "* Read-only access to a table. You can only see the data, but cannot alter it\n",
    "* Great for reviewing data or extracting it into new data structures prior to updating it"
   ]
  },
  {
   "cell_type": "markdown",
   "metadata": {},
   "source": [
    "#### Basic table-reading"
   ]
  },
  {
   "cell_type": "code",
   "execution_count": null,
   "metadata": {},
   "outputs": [],
   "source": [
    "import os\n",
    "from arcpy.da import SearchCursor\n",
    "\n",
    "# Set the path to your data\n",
    "cat_table = os.path.join(os.getcwd(), \"data\\\\demo.gdb\\\\Redlands_Cat_Sightings\")\n",
    "\n",
    "# Run the cursor to print the data\n",
    "table_data = SearchCursor(cat_table, \"*\")\n",
    "for row in table_data:\n",
    "    print(row)"
   ]
  },
  {
   "cell_type": "markdown",
   "metadata": {},
   "source": [
    "#### Add a SQL Query"
   ]
  },
  {
   "cell_type": "code",
   "execution_count": null,
   "metadata": {},
   "outputs": [],
   "source": [
    "sql_query = \"TYPE = 'Orange'\"\n",
    "with SearchCursor(cat_table, \"*\", sql_query) as table_data:\n",
    "    for row in table_data:\n",
    "        print(row)"
   ]
  },
  {
   "cell_type": "markdown",
   "metadata": {},
   "source": [
    "***"
   ]
  },
  {
   "cell_type": "markdown",
   "metadata": {},
   "source": [
    "## Insert Cursor\n",
    "* Write access to a table; allows you to append rows to a table"
   ]
  },
  {
   "cell_type": "code",
   "execution_count": null,
   "metadata": {},
   "outputs": [],
   "source": [
    "from arcpy.da import InsertCursor\n",
    "\n",
    "# Set the path to your data\n",
    "cat_table = os.path.join(os.getcwd(), \"data\\\\demo.gdb\\\\Redlands_Cat_Sightings\")\n",
    "\n",
    "# Create the rows you want to append to the table\n",
    "rows = [\n",
    "    (6, (-13045960.543499999, 4036405.2462000027), 'Hairless', 1, 0),\n",
    "    (7, (-13045952.4474, 4036413.342299998), 'Raccoon', 4, 0)\n",
    "]\n",
    "\n",
    "# Run the cursor to insert new rows\n",
    "with InsertCursor(cat_table, \"*\") as table_data:\n",
    "    for row in rows:\n",
    "        table_data.insertRow(row)  # Run cell 1 to see the new rows"
   ]
  },
  {
   "cell_type": "markdown",
   "metadata": {},
   "source": [
    "***"
   ]
  },
  {
   "cell_type": "markdown",
   "metadata": {},
   "source": [
    "## Update Cursor\n",
    "* Write access to a table; allows you to alter existing data"
   ]
  },
  {
   "cell_type": "code",
   "execution_count": null,
   "metadata": {},
   "outputs": [],
   "source": [
    "from arcpy.da import UpdateCursor\n",
    "\n",
    "sql_query = \"TYPE = 'Virtual'\"\n",
    "with UpdateCursor(cat_table, \"*\", sql_query) as table_data:\n",
    "    for row in table_data:\n",
    "        table_data.deleteRow()  # takes no argument(s)"
   ]
  },
  {
   "cell_type": "markdown",
   "metadata": {
    "collapsed": true
   },
   "source": [
    "---\n",
    "#### Helpful Links\n",
    "\n",
    "Cursors:<br>\n",
    "http://pro.arcgis.com/en/pro-app/arcpy/get-started/data-access-using-cursors.htm\n",
    "\n",
    "Building SQL Expressions:<br>\n",
    "http://pro.arcgis.com/en/pro-app/help/mapping/navigation/sql-reference-for-elements-used-in-query-expressions.htm\n",
    "\n"
   ]
  },
  {
   "cell_type": "markdown",
   "metadata": {
    "collapsed": true
   },
   "source": [
    "# ToDo: Add comprehensions to cursors. Clinton has some samples of this from last year's talk"
   ]
  },
  {
   "cell_type": "markdown",
   "metadata": {},
   "source": [
    "# ToDo: Show example of nested cursors"
   ]
  },
  {
   "cell_type": "code",
   "execution_count": null,
   "metadata": {},
   "outputs": [],
   "source": []
  }
 ],
 "metadata": {
  "kernelspec": {
   "display_name": "Python 3",
   "language": "python",
   "name": "python3"
  },
  "language_info": {
   "codemirror_mode": {
    "name": "ipython",
    "version": 3
   },
   "file_extension": ".py",
   "mimetype": "text/x-python",
   "name": "python",
   "nbconvert_exporter": "python",
   "pygments_lexer": "ipython3",
   "version": "3.6.5"
  }
 },
 "nbformat": 4,
 "nbformat_minor": 2
}
