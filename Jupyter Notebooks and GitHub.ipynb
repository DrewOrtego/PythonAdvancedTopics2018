{
 "cells": [
  {
   "cell_type": "markdown",
   "metadata": {
    "collapsed": true
   },
   "source": [
    "![Jupyter Notebooks](img/jupyter.png)\n",
    "## Installation\n",
    "A package manager is required to install Jupyter Notebook. You can use one of the following options:\n",
    "    1. Install Anaconda or Miniconda as they include Jupyter Notebook. This is included with Pro.\n",
    "    2. Install using Pip.\n",
    "\n",
    "## Uses\n",
    "* Easy to share and distribute\n",
    "* Great for code-heavy presentations\n",
    "* Integration with GitHub, PyCharm, and other development tools\n",
    "\n",
    "### http://jupyter.org/install"
   ]
  },
  {
   "cell_type": "markdown",
   "metadata": {},
   "source": [
    "***"
   ]
  },
  {
   "cell_type": "markdown",
   "metadata": {},
   "source": [
    "![GitHub](img/github.png)\n",
    "* More than a collaboration tool: organizes projects througout their development cycle.\n",
    "* Acts as a backup utility for source code.\n",
    "* Encourages documentation in many ways. (e.g. ReadMe files, and Wiki)\n",
    "* Excellent code-presentation resource.\n",
    "* Esri uses GitHub enterprise."
   ]
  },
  {
   "cell_type": "code",
   "execution_count": null,
   "metadata": {},
   "outputs": [],
   "source": []
  }
 ],
 "metadata": {
  "kernelspec": {
   "display_name": "Python 2",
   "language": "python",
   "name": "python2"
  },
  "language_info": {
   "codemirror_mode": {
    "name": "ipython",
    "version": 2
   },
   "file_extension": ".py",
   "mimetype": "text/x-python",
   "name": "python",
   "nbconvert_exporter": "python",
   "pygments_lexer": "ipython2",
   "version": "2.7.6"
  }
 },
 "nbformat": 4,
 "nbformat_minor": 0
}
