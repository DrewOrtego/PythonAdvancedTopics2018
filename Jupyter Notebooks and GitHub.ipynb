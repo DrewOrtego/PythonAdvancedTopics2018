{
 "cells": [
  {
   "cell_type": "code",
   "execution_count": null,
   "metadata": {
    "collapsed": true
   },
   "outputs": [],
   "source": [
    "# Jupyter Notebook\n",
    "<img src=\"https://raw.githubusercontent.com/DrewOrtego/PythonAdvancedTopics2018/master/img/jupyter.png\" alt=\"Jupyter\" title=\"Logo\" />\n",
    "## Installation\n",
    "A package manager is required to install Jupyter Notebook. You can use one of the following options:\n",
    "    1. Install Anaconda or Miniconda as they include Jupyter Notebook. This is included with Pro.\n",
    "    2. Install using Pip.\n",
    "\n",
    "* http://jupyter.org/install\n",
    "\n",
    "## Uses\n",
    "* Easy to share and distribute\n",
    "* Great for code-heavy presentations\n",
    "* Integration with GitHub, PyCharm, and other development tools"
   ]
  },
  {
   "cell_type": "code",
   "execution_count": null,
   "metadata": {},
   "outputs": [],
   "source": [
    "# GitHub\n",
    "<img src=\"https://raw.githubusercontent.com/DrewOrtego/PythonAdvancedTopics2018/master/img/github.png\" alt=\"Jupyter\" title=\"Logo\" />\n",
    "* More than a collaboration tool: organizes projects througout their development cycle.\n",
    "* Acts as a backup utility for source code.\n",
    "* Encourages documentation in many ways. (e.g. ReadMe files, and Wiki)\n",
    "* Excellent code-presentation resource.\n",
    "* Esri uses GitHub enterprise."
   ]
  },
  {
   "cell_type": "code",
   "execution_count": null,
   "metadata": {},
   "outputs": [],
   "source": []
  }
 ],
 "metadata": {
  "kernelspec": {
   "display_name": "Python 2",
   "language": "python",
   "name": "python2"
  },
  "language_info": {
   "codemirror_mode": {
    "name": "ipython",
    "version": 2
   },
   "file_extension": ".py",
   "mimetype": "text/x-python",
   "name": "python",
   "nbconvert_exporter": "python",
   "pygments_lexer": "ipython2",
   "version": "2.7.6"
  }
 },
 "nbformat": 4,
 "nbformat_minor": 0
}
